{
 "cells": [
  {
   "cell_type": "markdown",
   "metadata": {},
   "source": [
    "# Linear Algebra for CpE"
   ]
  },
  {
   "cell_type": "markdown",
   "metadata": {},
   "source": [
    "## Laboratory 8 : System of Linear Equations"
   ]
  },
  {
   "cell_type": "markdown",
   "metadata": {},
   "source": [
    "<h5>Coded and Submitted by: \n",
    "<h5>Alvarez, Lee Andrei D. \n",
    "<h5>201810225"
   ]
  },
  {
   "cell_type": "markdown",
   "metadata": {},
   "source": [
    "<h3><b>Exercise"
   ]
  },
  {
   "cell_type": "markdown",
   "metadata": {},
   "source": [
    "1. Try to find your own example of a system of linear equations (minimum of 2 equations) and solve them using the inverse equation. Explain the details of your example."
   ]
  },
  {
   "cell_type": "markdown",
   "metadata": {},
   "source": [
    "The cost of a ticket in a cinema show titled Avengers: End Game at IMAX Theatre in Mall of Asia was 8500 pesos for 12 senior and 3 non-senior. On the other hand, the cost of a ticket in a cinema show title Avengers: End Game at Glorietta 4 cinema was 6500 pesos for 8 senior and 3 non-senior in another music concert. How much was the cost of the ticket for each senior and non-senior that would watch the movie? \n",
    "\n",
    "$$ 12x + 3y = 8500  $$\n",
    "$$ 8x + 3y = 6500  $$"
   ]
  },
  {
   "cell_type": "code",
   "execution_count": 80,
   "metadata": {},
   "outputs": [],
   "source": [
    "import numpy as np\n",
    "import matplotlib.pyplot as plt \n",
    "%matplotlib inline "
   ]
  },
  {
   "cell_type": "code",
   "execution_count": 90,
   "metadata": {},
   "outputs": [
    {
     "name": "stdout",
     "output_type": "stream",
     "text": [
      "[[12, 3], [8, 3]] \n",
      " [[8500], [6500]]\n"
     ]
    }
   ],
   "source": [
    "peoples = ([[12,3],[8,3]])\n",
    "cost = ([[8500],[6500]])\n",
    "\n",
    "print(peoples,'\\n',cost)"
   ]
  },
  {
   "cell_type": "code",
   "execution_count": 91,
   "metadata": {},
   "outputs": [
    {
     "name": "stdout",
     "output_type": "stream",
     "text": [
      "The individual price for a senior is: PHP500.00\n",
      "The individual price for a non-senior is: PHP833.33\n"
     ]
    }
   ],
   "source": [
    "## using inverse equation \n",
    "\n",
    "individual_price = np.linalg.inv(peoples) @ cost\n",
    "print('The individual price for a senior is: PHP{:.2f}'.format(float(individual_price[0])))\n",
    "print('The individual price for a non-senior is: PHP{:.2f}'.format(float(individual_price[1])))"
   ]
  },
  {
   "cell_type": "markdown",
   "metadata": {},
   "source": [
    "2. Using your example in (1) solve it using np.linalg.solve(). Explain the functions and its difference using the inverse equation. "
   ]
  },
  {
   "cell_type": "code",
   "execution_count": 92,
   "metadata": {},
   "outputs": [
    {
     "name": "stdout",
     "output_type": "stream",
     "text": [
      "The individual price of a senior is: PHP500.00\n",
      "The individual price of a non-senior is: PHP833.33\n"
     ]
    }
   ],
   "source": [
    "## using np.linalg.solve() \n",
    "\n",
    "prices2 = np.linalg.solve(peoples,cost)\n",
    "print('The individual price of a senior is: PHP{:.2f}'.format(float(prices2[0])))\n",
    "print('The individual price of a non-senior is: PHP{:.2f}'.format(float(prices2[1])))"
   ]
  },
  {
   "cell_type": "code",
   "execution_count": null,
   "metadata": {},
   "outputs": [],
   "source": []
  },
  {
   "cell_type": "code",
   "execution_count": null,
   "metadata": {},
   "outputs": [],
   "source": []
  }
 ],
 "metadata": {
  "kernelspec": {
   "display_name": "Python 3",
   "language": "python",
   "name": "python3"
  },
  "language_info": {
   "codemirror_mode": {
    "name": "ipython",
    "version": 3
   },
   "file_extension": ".py",
   "mimetype": "text/x-python",
   "name": "python",
   "nbconvert_exporter": "python",
   "pygments_lexer": "ipython3",
   "version": "3.8.3"
  }
 },
 "nbformat": 4,
 "nbformat_minor": 4
}
